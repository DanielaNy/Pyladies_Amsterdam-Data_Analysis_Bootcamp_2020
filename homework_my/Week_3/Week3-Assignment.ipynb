{
 "cells": [
  {
   "cell_type": "markdown",
   "metadata": {},
   "source": [
    "## Assignment - Week 3"
   ]
  },
  {
   "cell_type": "markdown",
   "metadata": {},
   "source": [
    "<div>\n",
    "    <img align=\"right\" src=\"https://upload.wikimedia.org/wikipedia/en/e/ed/Nobel_Prize.png\" width=\"100\" ALIGN=”right” />\n",
    "</div>\n",
    "\n",
    "# Nobel Prize Data and Analysis\n",
    "\n",
    "#### Data description\n",
    "\n",
    "Herein, the data related to Nobel prize winners from years 1901 - 2016 are presented and analysed.\n",
    "\n",
    "The dataset contains below written information in separate columns: \n",
    "\n",
    "- prize_year, \n",
    "- category, \n",
    "- prize - full description with category and year, \n",
    "- motivation, \n",
    "- prize_share,\n",
    "\n",
    "- <details>\n",
    "<summary markdown=\"span\">etc. (click for more)</summary>\n",
    "- laureate_id\n",
    "- laureate_type - individual / organization\n",
    "- full_name\n",
    "- birth_date\n",
    "- birth_city\n",
    "- birth_country\n",
    "- gender\n",
    "- organization_name\n",
    "- organization_city\n",
    "- organization_country\n",
    "- death_date\n",
    "- death_city\n",
    "- death_country\n",
    "    \n",
    "</details>\n",
    "\n",
    "Dataset is described [below](#Data-Description-Using-Pandas) by using Pandas Python library.\n",
    "\n",
    "#### Acknowledgements\n",
    "- Dataset was downloaded from [kaggle.com](https://www.kaggle.com/nobelfoundation/nobel-laureates)\n",
    "- Image: [wikipedia.com](https://www.google.com/url?sa=i&url=https%3A%2F%2Fen.wikipedia.org%2Fwiki%2FNobel_Prize&psig=AOvVaw02tGsawhsiaFMTAiBCF2Qk&ust=1590065866488000&source=images&cd=vfe&ved=0CAIQjRxqFwoTCJjrrIy_wukCFQAAAAAdAAAAABAD)\n",
    "\n",
    "#### Data Analysis\n",
    "\n",
    "Data is analysed [below](#Data-Analysis-Using-Pandas) using [Pandas](https://pandas.pydata.org/) Python library.\n",
    "\n",
    "Questions (given in Week 1 Assignment) to be answered by data analysis:\n",
    "\n",
    "1. How many % of nobel prize laureates were women?\n",
    "2. What is the most common origin (country) of nobel laureates?\n",
    "3. Have there been equal count of prizes in each category awarded?\n",
    "4. What are the 5 most common words in nobel prize topics?\n",
    "<br><br>\n",
    "----\n"
   ]
  },
  {
   "cell_type": "markdown",
   "metadata": {},
   "source": [
    "## Data Description Using Pandas\n",
    "\n",
    "To describe and analyse data, Pandas is used herein."
   ]
  },
  {
   "cell_type": "code",
   "execution_count": 1,
   "metadata": {},
   "outputs": [],
   "source": [
    "import pandas as pd"
   ]
  },
  {
   "cell_type": "code",
   "execution_count": 2,
   "metadata": {},
   "outputs": [],
   "source": [
    "# read csv dataset\n",
    "df = pd.read_csv('/home/daniela/IT_learning/Python/Pyladiesams/Pyladies_Amsterdam-Data_Analysis_Bootcamp_2020/homework_my/downloaded_data/nobel_winners.csv')"
   ]
  },
  {
   "cell_type": "markdown",
   "metadata": {},
   "source": [
    "Basic decription of the _df_ dataframe done by **_head()_** and **_shape_** , **_info_**, **_columns_**:"
   ]
  },
  {
   "cell_type": "code",
   "execution_count": 3,
   "metadata": {},
   "outputs": [
    {
     "data": {
      "text/html": [
       "<div>\n",
       "<style scoped>\n",
       "    .dataframe tbody tr th:only-of-type {\n",
       "        vertical-align: middle;\n",
       "    }\n",
       "\n",
       "    .dataframe tbody tr th {\n",
       "        vertical-align: top;\n",
       "    }\n",
       "\n",
       "    .dataframe thead th {\n",
       "        text-align: right;\n",
       "    }\n",
       "</style>\n",
       "<table border=\"1\" class=\"dataframe\">\n",
       "  <thead>\n",
       "    <tr style=\"text-align: right;\">\n",
       "      <th></th>\n",
       "      <th>prize_year</th>\n",
       "      <th>category</th>\n",
       "      <th>prize</th>\n",
       "      <th>motivation</th>\n",
       "      <th>prize_share</th>\n",
       "      <th>laureate_id</th>\n",
       "      <th>laureate_type</th>\n",
       "      <th>full_name</th>\n",
       "      <th>birth_date</th>\n",
       "      <th>birth_city</th>\n",
       "      <th>birth_country</th>\n",
       "      <th>gender</th>\n",
       "      <th>organization_name</th>\n",
       "      <th>organization_city</th>\n",
       "      <th>organization_country</th>\n",
       "      <th>death_date</th>\n",
       "      <th>death_city</th>\n",
       "      <th>death_country</th>\n",
       "    </tr>\n",
       "  </thead>\n",
       "  <tbody>\n",
       "    <tr>\n",
       "      <th>0</th>\n",
       "      <td>1901</td>\n",
       "      <td>Chemistry</td>\n",
       "      <td>The Nobel Prize in Chemistry 1901</td>\n",
       "      <td>\"in recognition of the extraordinary services ...</td>\n",
       "      <td>1/1</td>\n",
       "      <td>160</td>\n",
       "      <td>Individual</td>\n",
       "      <td>Jacobus Henricus van 't Hoff</td>\n",
       "      <td>1852-08-30</td>\n",
       "      <td>Rotterdam</td>\n",
       "      <td>Netherlands</td>\n",
       "      <td>Male</td>\n",
       "      <td>Berlin University</td>\n",
       "      <td>Berlin</td>\n",
       "      <td>Germany</td>\n",
       "      <td>1911-03-01</td>\n",
       "      <td>Berlin</td>\n",
       "      <td>Germany</td>\n",
       "    </tr>\n",
       "    <tr>\n",
       "      <th>1</th>\n",
       "      <td>1901</td>\n",
       "      <td>Literature</td>\n",
       "      <td>The Nobel Prize in Literature 1901</td>\n",
       "      <td>\"in special recognition of his poetic composit...</td>\n",
       "      <td>1/1</td>\n",
       "      <td>569</td>\n",
       "      <td>Individual</td>\n",
       "      <td>Sully Prudhomme</td>\n",
       "      <td>1839-03-16</td>\n",
       "      <td>Paris</td>\n",
       "      <td>France</td>\n",
       "      <td>Male</td>\n",
       "      <td>NaN</td>\n",
       "      <td>NaN</td>\n",
       "      <td>NaN</td>\n",
       "      <td>1907-09-07</td>\n",
       "      <td>Châtenay</td>\n",
       "      <td>France</td>\n",
       "    </tr>\n",
       "  </tbody>\n",
       "</table>\n",
       "</div>"
      ],
      "text/plain": [
       "   prize_year    category                               prize  \\\n",
       "0        1901   Chemistry   The Nobel Prize in Chemistry 1901   \n",
       "1        1901  Literature  The Nobel Prize in Literature 1901   \n",
       "\n",
       "                                          motivation prize_share  laureate_id  \\\n",
       "0  \"in recognition of the extraordinary services ...         1/1          160   \n",
       "1  \"in special recognition of his poetic composit...         1/1          569   \n",
       "\n",
       "  laureate_type                     full_name  birth_date birth_city  \\\n",
       "0    Individual  Jacobus Henricus van 't Hoff  1852-08-30  Rotterdam   \n",
       "1    Individual               Sully Prudhomme  1839-03-16      Paris   \n",
       "\n",
       "  birth_country gender  organization_name organization_city  \\\n",
       "0   Netherlands   Male  Berlin University            Berlin   \n",
       "1        France   Male                NaN               NaN   \n",
       "\n",
       "  organization_country  death_date death_city death_country  \n",
       "0              Germany  1911-03-01     Berlin       Germany  \n",
       "1                  NaN  1907-09-07   Châtenay        France  "
      ]
     },
     "execution_count": 3,
     "metadata": {},
     "output_type": "execute_result"
    }
   ],
   "source": [
    "df.head(2)"
   ]
  },
  {
   "cell_type": "code",
   "execution_count": 4,
   "metadata": {},
   "outputs": [
    {
     "data": {
      "text/plain": [
       "(969, 18)"
      ]
     },
     "execution_count": 4,
     "metadata": {},
     "output_type": "execute_result"
    }
   ],
   "source": [
    "df.shape"
   ]
  },
  {
   "cell_type": "code",
   "execution_count": 5,
   "metadata": {},
   "outputs": [
    {
     "name": "stdout",
     "output_type": "stream",
     "text": [
      "<class 'pandas.core.frame.DataFrame'>\n",
      "RangeIndex: 969 entries, 0 to 968\n",
      "Data columns (total 18 columns):\n",
      " #   Column                Non-Null Count  Dtype \n",
      "---  ------                --------------  ----- \n",
      " 0   prize_year            969 non-null    int64 \n",
      " 1   category              969 non-null    object\n",
      " 2   prize                 969 non-null    object\n",
      " 3   motivation            881 non-null    object\n",
      " 4   prize_share           969 non-null    object\n",
      " 5   laureate_id           969 non-null    int64 \n",
      " 6   laureate_type         969 non-null    object\n",
      " 7   full_name             969 non-null    object\n",
      " 8   birth_date            938 non-null    object\n",
      " 9   birth_city            941 non-null    object\n",
      " 10  birth_country         943 non-null    object\n",
      " 11  gender                943 non-null    object\n",
      " 12  organization_name     722 non-null    object\n",
      " 13  organization_city     716 non-null    object\n",
      " 14  organization_country  716 non-null    object\n",
      " 15  death_date            617 non-null    object\n",
      " 16  death_city            599 non-null    object\n",
      " 17  death_country         605 non-null    object\n",
      "dtypes: int64(2), object(16)\n",
      "memory usage: 136.4+ KB\n"
     ]
    }
   ],
   "source": [
    "df.info()"
   ]
  },
  {
   "cell_type": "code",
   "execution_count": 6,
   "metadata": {},
   "outputs": [
    {
     "data": {
      "text/plain": [
       "Index(['prize_year', 'category', 'prize', 'motivation', 'prize_share',\n",
       "       'laureate_id', 'laureate_type', 'full_name', 'birth_date', 'birth_city',\n",
       "       'birth_country', 'gender', 'organization_name', 'organization_city',\n",
       "       'organization_country', 'death_date', 'death_city', 'death_country'],\n",
       "      dtype='object')"
      ]
     },
     "execution_count": 6,
     "metadata": {},
     "output_type": "execute_result"
    }
   ],
   "source": [
    "df.columns"
   ]
  },
  {
   "cell_type": "markdown",
   "metadata": {},
   "source": [
    "To show unique values of a column (here _prize_year_), **_unique()_** can be used:"
   ]
  },
  {
   "cell_type": "code",
   "execution_count": 7,
   "metadata": {},
   "outputs": [
    {
     "data": {
      "text/plain": [
       "113"
      ]
     },
     "execution_count": 7,
     "metadata": {},
     "output_type": "execute_result"
    }
   ],
   "source": [
    "# number of unique values\n",
    "len(df.prize_year.unique()) # 113 unique year values"
   ]
  },
  {
   "cell_type": "code",
   "execution_count": 8,
   "metadata": {},
   "outputs": [
    {
     "data": {
      "text/plain": [
       "True"
      ]
     },
     "execution_count": 8,
     "metadata": {},
     "output_type": "execute_result"
    }
   ],
   "source": [
    "df.isnull().values.any()  # this dataframe contains NaN values"
   ]
  },
  {
   "cell_type": "code",
   "execution_count": 9,
   "metadata": {},
   "outputs": [
    {
     "data": {
      "text/plain": [
       "True"
      ]
     },
     "execution_count": 9,
     "metadata": {},
     "output_type": "execute_result"
    }
   ],
   "source": [
    "df.motivation.isnull().values.any()# motivation column contains NaN values"
   ]
  },
  {
   "cell_type": "markdown",
   "metadata": {},
   "source": [
    "## Data Analysis Using Pandas\n",
    "\n",
    "At first, some basic functions and data manipulations is shown here.\n"
   ]
  },
  {
   "cell_type": "code",
   "execution_count": 10,
   "metadata": {},
   "outputs": [
    {
     "data": {
      "text/html": [
       "<div>\n",
       "<style scoped>\n",
       "    .dataframe tbody tr th:only-of-type {\n",
       "        vertical-align: middle;\n",
       "    }\n",
       "\n",
       "    .dataframe tbody tr th {\n",
       "        vertical-align: top;\n",
       "    }\n",
       "\n",
       "    .dataframe thead th {\n",
       "        text-align: right;\n",
       "    }\n",
       "</style>\n",
       "<table border=\"1\" class=\"dataframe\">\n",
       "  <thead>\n",
       "    <tr style=\"text-align: right;\">\n",
       "      <th></th>\n",
       "      <th>prize_year</th>\n",
       "    </tr>\n",
       "  </thead>\n",
       "  <tbody>\n",
       "    <tr>\n",
       "      <th>1901</th>\n",
       "      <td>6</td>\n",
       "    </tr>\n",
       "    <tr>\n",
       "      <th>1902</th>\n",
       "      <td>7</td>\n",
       "    </tr>\n",
       "    <tr>\n",
       "      <th>1903</th>\n",
       "      <td>7</td>\n",
       "    </tr>\n",
       "    <tr>\n",
       "      <th>1904</th>\n",
       "      <td>6</td>\n",
       "    </tr>\n",
       "    <tr>\n",
       "      <th>1905</th>\n",
       "      <td>5</td>\n",
       "    </tr>\n",
       "    <tr>\n",
       "      <th>...</th>\n",
       "      <td>...</td>\n",
       "    </tr>\n",
       "    <tr>\n",
       "      <th>2012</th>\n",
       "      <td>15</td>\n",
       "    </tr>\n",
       "    <tr>\n",
       "      <th>2013</th>\n",
       "      <td>16</td>\n",
       "    </tr>\n",
       "    <tr>\n",
       "      <th>2014</th>\n",
       "      <td>15</td>\n",
       "    </tr>\n",
       "    <tr>\n",
       "      <th>2015</th>\n",
       "      <td>13</td>\n",
       "    </tr>\n",
       "    <tr>\n",
       "      <th>2016</th>\n",
       "      <td>11</td>\n",
       "    </tr>\n",
       "  </tbody>\n",
       "</table>\n",
       "<p>113 rows × 1 columns</p>\n",
       "</div>"
      ],
      "text/plain": [
       "      prize_year\n",
       "1901           6\n",
       "1902           7\n",
       "1903           7\n",
       "1904           6\n",
       "1905           5\n",
       "...          ...\n",
       "2012          15\n",
       "2013          16\n",
       "2014          15\n",
       "2015          13\n",
       "2016          11\n",
       "\n",
       "[113 rows x 1 columns]"
      ]
     },
     "execution_count": 10,
     "metadata": {},
     "output_type": "execute_result"
    }
   ],
   "source": [
    "# number of laureates per year\n",
    "laureate_per_year = pd.DataFrame(df['prize_year'].value_counts().sort_index())\n",
    "laureate_per_year"
   ]
  },
  {
   "cell_type": "code",
   "execution_count": 11,
   "metadata": {},
   "outputs": [
    {
     "data": {
      "text/plain": [
       "<matplotlib.axes._subplots.AxesSubplot at 0x7f4cb6d39d30>"
      ]
     },
     "execution_count": 11,
     "metadata": {},
     "output_type": "execute_result"
    },
    {
     "data": {
      "image/png": "[encoded data removed]",
      "text/plain": [
       "<Figure size 432x288 with 1 Axes>"
      ]
     },
     "metadata": {
      "needs_background": "light"
     },
     "output_type": "display_data"
    }
   ],
   "source": [
    "# showing results in bar plot\n",
    "laureate_per_year_plot = laureate_per_year.plot(kind='area', rot=90, legend=False)\n",
    "laureate_per_year_plot.set(xlabel=\"Year\", ylabel=\"Count\", title=\"Number of prizes awarded per year\")\n",
    "laureate_per_year_plot"
   ]
  },
  {
   "cell_type": "code",
   "execution_count": 12,
   "metadata": {},
   "outputs": [
    {
     "data": {
      "text/plain": [
       "8.6"
      ]
     },
     "execution_count": 12,
     "metadata": {},
     "output_type": "execute_result"
    }
   ],
   "source": [
    "# average laureates count rounded to 1 decimal\n",
    "round(df['prize_year'].value_counts().mean(), 1)"
   ]
  },
  {
   "cell_type": "code",
   "execution_count": 13,
   "metadata": {},
   "outputs": [
    {
     "data": {
      "text/plain": [
       "937"
      ]
     },
     "execution_count": 13,
     "metadata": {},
     "output_type": "execute_result"
    }
   ],
   "source": [
    "# Maximum value of laureate_id\n",
    "df[\"laureate_id\"].max()"
   ]
  },
  {
   "cell_type": "markdown",
   "metadata": {},
   "source": [
    "----\n",
    "### Answers to given questions:\n",
    "\n",
    "##### Question 1: How many % of nobel prize laureates were women?"
   ]
  },
  {
   "cell_type": "code",
   "execution_count": 14,
   "metadata": {},
   "outputs": [
    {
     "data": {
      "text/plain": [
       "Male      893\n",
       "Female     50\n",
       "Name: gender, dtype: int64"
      ]
     },
     "execution_count": 14,
     "metadata": {},
     "output_type": "execute_result"
    }
   ],
   "source": [
    "# to count number of women the quickest way\n",
    "df.gender.value_counts()"
   ]
  },
  {
   "cell_type": "code",
   "execution_count": 15,
   "metadata": {},
   "outputs": [
    {
     "data": {
      "text/plain": [
       "969"
      ]
     },
     "execution_count": 15,
     "metadata": {},
     "output_type": "execute_result"
    }
   ],
   "source": [
    "# number of all laureates (including organizations)\n",
    "total_laureates_count = df.shape[0]\n",
    "total_laureates_count"
   ]
  },
  {
   "cell_type": "code",
   "execution_count": 16,
   "metadata": {},
   "outputs": [],
   "source": [
    "# number of women\n",
    "df_women = df[df.gender == \"Female\"]\n",
    "women_count = len(df_women)\n",
    "women_count\n",
    "\n",
    "# number of men\n",
    "df_men = df[df.gender == \"Male\"]\n",
    "men_count = len(df_men)\n",
    "\n",
    "# number of unknown gender\n",
    "df_unknown_gender = df[pd.isnull(df.gender)]\n",
    "unknown_gender_count = len(df_unknown_gender)"
   ]
  },
  {
   "cell_type": "code",
   "execution_count": 17,
   "metadata": {},
   "outputs": [
    {
     "name": "stdout",
     "output_type": "stream",
     "text": [
      "yess!!\n"
     ]
    }
   ],
   "source": [
    "# are values ok?\n",
    "if (women_count + men_count + unknown_gender_count) == total_laureates_count:\n",
    "    print(\"yess!!\")\n"
   ]
  },
  {
   "cell_type": "code",
   "execution_count": 18,
   "metadata": {},
   "outputs": [
    {
     "name": "stdout",
     "output_type": "stream",
     "text": [
      "Percentage of women Nobel prize laureates: 5.2 %\n",
      "(Percentage of men Nobel prize laureates: 92.2 %)\n",
      "(Percentage of unknown Nobel prize laureates: 2.7 %)\n"
     ]
    }
   ],
   "source": [
    "#counting percentages\n",
    "percentage_of_women = women_count / total_laureates_count * 100\n",
    "percentage_of_men = men_count / total_laureates_count * 100\n",
    "percentage_of_unknown = unknown_gender_count / total_laureates_count * 100\n",
    "\n",
    "#pri ting results\n",
    "print(f\"Percentage of women Nobel prize laureates: {round(percentage_of_women, 1)} %\")\n",
    "print(f\"(Percentage of men Nobel prize laureates: {round(percentage_of_men, 1)} %)\")\n",
    "print(f\"(Percentage of unknown Nobel prize laureates: {round(percentage_of_unknown, 1)} %)\")"
   ]
  },
  {
   "cell_type": "code",
   "execution_count": 19,
   "metadata": {},
   "outputs": [
    {
     "data": {
      "image/png": "[encoded data removed]",
      "text/plain": [
       "<Figure size 432x288 with 1 Axes>"
      ]
     },
     "metadata": {},
     "output_type": "display_data"
    }
   ],
   "source": [
    "# showing pie plot\n",
    "import matplotlib\n",
    "\n",
    "percentage = pd.DataFrame({\"percentage\":[percentage_of_women, percentage_of_men, percentage_of_unknown]}, index=[\"Female\", \"Male\", \"NaN\"])\n",
    "percentage_pie = percentage.plot.pie(y=\"percentage\")\n"
   ]
  },
  {
   "cell_type": "markdown",
   "metadata": {},
   "source": [
    "##### Question 2: What is the most common origin (country) of nobel laureates?"
   ]
  },
  {
   "cell_type": "code",
   "execution_count": 20,
   "metadata": {},
   "outputs": [
    {
     "name": "stdout",
     "output_type": "stream",
     "text": [
      "United States of America\n",
      "276\n"
     ]
    }
   ],
   "source": [
    "# counting values, accesing first index and value\n",
    "print(df.birth_country.value_counts().index[0])\n",
    "print(df.birth_country.value_counts()[0])"
   ]
  },
  {
   "cell_type": "markdown",
   "metadata": {},
   "source": [
    "#### Question 3: Have there been equal count of prizes in each category awarded?"
   ]
  },
  {
   "cell_type": "code",
   "execution_count": 21,
   "metadata": {},
   "outputs": [
    {
     "name": "stdout",
     "output_type": "stream",
     "text": [
      "Equal prizes in each category?\n",
      "No\n",
      "            category\n",
      "Medicine         227\n",
      "Physics          222\n",
      "Chemistry        194\n",
      "Peace            130\n",
      "Literature       113\n",
      "Economics         83\n"
     ]
    }
   ],
   "source": [
    "# counting values in each category, putting to dataframe with index\n",
    "cat_no = pd.DataFrame(df.category.value_counts())\n",
    "\n",
    "#answering, if values are equal\n",
    "print(\"Equal prizes in each category?\")\n",
    "\n",
    "if cat_no.category[0] == cat_no.category[1] == cat_no.category[2] == cat_no.category[3] == cat_no.category[4] == cat_no.category[5]:\n",
    "    print(\"Yes\")\n",
    "else:\n",
    "    print(\"No\")\n",
    "\n",
    "# printing results\n",
    "print(cat_no)"
   ]
  },
  {
   "cell_type": "code",
   "execution_count": 22,
   "metadata": {},
   "outputs": [
    {
     "data": {
      "text/plain": [
       "<matplotlib.axes._subplots.AxesSubplot at 0x7f4cb607c910>"
      ]
     },
     "execution_count": 22,
     "metadata": {},
     "output_type": "execute_result"
    },
    {
     "data": {
      "image/png": "[encoded data removed]",
      "text/plain": [
       "<Figure size 432x288 with 1 Axes>"
      ]
     },
     "metadata": {
      "needs_background": "light"
     },
     "output_type": "display_data"
    }
   ],
   "source": [
    "# showing results in bar plot\n",
    "cat_no_bar = cat_no.plot.bar(rot=0, legend=False)\n",
    "cat_no_bar.set(xlabel=\"Category\", ylabel=\"Count\", title=\"Number of prizes awarded according to category\")\n",
    "cat_no_bar"
   ]
  },
  {
   "cell_type": "markdown",
   "metadata": {},
   "source": [
    "#### Question 4: What are the 5 most common words in nobel prize topics?"
   ]
  },
  {
   "cell_type": "code",
   "execution_count": 23,
   "metadata": {},
   "outputs": [
    {
     "data": {
      "text/html": [
       "<div>\n",
       "<style scoped>\n",
       "    .dataframe tbody tr th:only-of-type {\n",
       "        vertical-align: middle;\n",
       "    }\n",
       "\n",
       "    .dataframe tbody tr th {\n",
       "        vertical-align: top;\n",
       "    }\n",
       "\n",
       "    .dataframe thead th {\n",
       "        text-align: right;\n",
       "    }\n",
       "</style>\n",
       "<table border=\"1\" class=\"dataframe\">\n",
       "  <thead>\n",
       "    <tr style=\"text-align: right;\">\n",
       "      <th></th>\n",
       "      <th>0</th>\n",
       "    </tr>\n",
       "  </thead>\n",
       "  <tbody>\n",
       "    <tr>\n",
       "      <th>discovery</th>\n",
       "      <td>206</td>\n",
       "    </tr>\n",
       "    <tr>\n",
       "      <th>discoveries</th>\n",
       "      <td>164</td>\n",
       "    </tr>\n",
       "    <tr>\n",
       "      <th>concerning</th>\n",
       "      <td>124</td>\n",
       "    </tr>\n",
       "    <tr>\n",
       "      <th>development</th>\n",
       "      <td>111</td>\n",
       "    </tr>\n",
       "    <tr>\n",
       "      <th>work</th>\n",
       "      <td>95</td>\n",
       "    </tr>\n",
       "  </tbody>\n",
       "</table>\n",
       "</div>"
      ],
      "text/plain": [
       "               0\n",
       "discovery    206\n",
       "discoveries  164\n",
       "concerning   124\n",
       "development  111\n",
       "work          95"
      ]
     },
     "execution_count": 23,
     "metadata": {},
     "output_type": "execute_result"
    }
   ],
   "source": [
    "# creating list from motivations\n",
    "mot_list = list(df.motivation)\n",
    "\n",
    "# auxiliary variables\n",
    "words_list = []\n",
    "words_dict = {}\n",
    "unwanted = [\"with\", \"their\", \"this\", \"which\", \"after\"]\n",
    "\n",
    "def create_list_of_words_in_motivation(mot_list):\n",
    "    \"\"\"Splits the titles in motivation column from df \n",
    "    dataset into list of words, removes unwanted characters\"\"\"\n",
    "    \n",
    "    for title in mot_list:\n",
    "        if type(title) == str:\n",
    "            words_in_title = title.split(\" \")     \n",
    "\n",
    "            for w in words_in_title:\n",
    "                w = w.replace(' ', '')\n",
    "                w = w.replace('\"', '')\n",
    "                w = w.replace(',', '')\n",
    "                w.lower()\n",
    "                if len(w)>3:\n",
    "                    if w not in unwanted:\n",
    "                        words_list.append(w)\n",
    "                continue\n",
    "    return words_list\n",
    "\n",
    "\n",
    "def count_words(words_list, words_dict):\n",
    "    \"\"\"Counts the words in motivation titles, \n",
    "    creates a dictionary\"\"\"\n",
    "    for w in words_list:\n",
    "        if w not in words_dict.keys():\n",
    "            count = words_list.count(w)\n",
    "            words_dict[w] = count\n",
    "        else:\n",
    "            continue\n",
    "\n",
    "    return words_dict         \n",
    "\n",
    "\n",
    "words_list = create_list_of_words_in_motivation(mot_list)\n",
    "words_dict = count_words(words_list, words_dict)\n",
    "\n",
    "# showing result\n",
    "mot_df = pd.DataFrame.from_dict(words_dict, orient=\"index\")\n",
    "mot_df.sort_values(by=[0], ascending=False).head(5)"
   ]
  },
  {
   "cell_type": "code",
   "execution_count": 24,
   "metadata": {},
   "outputs": [
    {
     "data": {
      "image/png": "[encoded data removed]",
      "text/plain": [
       "<Figure size 576x432 with 1 Axes>"
      ]
     },
     "metadata": {
      "needs_background": "light"
     },
     "output_type": "display_data"
    }
   ],
   "source": [
    "# create worldcloud image according of word counts\n",
    "from PIL import Image\n",
    "from wordcloud import WordCloud, STOPWORDS, ImageColorGenerator\n",
    "import matplotlib.pyplot as plt\n",
    "\n",
    "mot_string = ''\n",
    "mot_string += \" \".join(words_list)+\" \"\n",
    "\n",
    "wordcloud = WordCloud(width = 1000, height = 600, \n",
    "                background_color ='white',\n",
    "                max_words=30,\n",
    "                stopwords = unwanted, \n",
    "                min_font_size = 10).generate(mot_string)\n",
    "\n",
    "# plot the WordCloud image                        \n",
    "plt.figure(figsize = (8, 6), facecolor = None) \n",
    "plt.imshow(wordcloud) \n",
    "plt.axis(\"off\") \n",
    "plt.tight_layout(pad = 0)  \n",
    "plt.show()"
   ]
  }
 ],
 "metadata": {
  "kernelspec": {
   "display_name": "Python 3",
   "language": "python",
   "name": "python3"
  },
  "language_info": {
   "codemirror_mode": {
    "name": "ipython",
    "version": 3
   },
   "file_extension": ".py",
   "mimetype": "text/x-python",
   "name": "python",
   "nbconvert_exporter": "python",
   "pygments_lexer": "ipython3",
   "version": "3.8.2"
  }
 },
 "nbformat": 4,
 "nbformat_minor": 2
}
