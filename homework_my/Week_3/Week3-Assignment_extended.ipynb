{
 "cells": [
  {
   "cell_type": "markdown",
   "metadata": {},
   "source": [
    "## Assignment - Week 3"
   ]
  },
  {
   "cell_type": "markdown",
   "metadata": {},
   "source": [
    "<div>\n",
    "    <img align=\"right\" src=\"https://upload.wikimedia.org/wikipedia/en/e/ed/Nobel_Prize.png\" width=\"100\" ALIGN=”right” />\n",
    "</div>\n",
    "\n",
    "# Nobel Prize Data and Analysis\n",
    "\n",
    "#### Data description\n",
    "\n",
    "Herein, the data related to Nobel prize winners from years 1901 - 2016 are presented and analysed.\n",
    "\n",
    "The dataset contains below written information in separate columns: \n",
    "\n",
    "- prize_year, \n",
    "- category, \n",
    "- prize - full description with category and year, \n",
    "- motivation, \n",
    "- prize_share,\n",
    "\n",
    "- <details>\n",
    "<summary markdown=\"span\">etc. (click for more)</summary>\n",
    "- laureate_id\n",
    "- laureate_type - individual / organization\n",
    "- full_name\n",
    "- birth_date\n",
    "- birth_city\n",
    "- birth_country\n",
    "- gender\n",
    "- organization_name\n",
    "- organization_city\n",
    "- organization_country\n",
    "- death_date\n",
    "- death_city\n",
    "- death_country\n",
    "    \n",
    "</details>\n",
    "\n",
    "Dataset is described [below](#Data-Description-Using-Pandas) by using Pandas Python library.\n",
    "\n",
    "#### Acknowledgements\n",
    "- Dataset was downloaded from [kaggle.com](https://www.kaggle.com/nobelfoundation/nobel-laureates)\n",
    "- Image: [wikipedia.com](https://www.google.com/url?sa=i&url=https%3A%2F%2Fen.wikipedia.org%2Fwiki%2FNobel_Prize&psig=AOvVaw02tGsawhsiaFMTAiBCF2Qk&ust=1590065866488000&source=images&cd=vfe&ved=0CAIQjRxqFwoTCJjrrIy_wukCFQAAAAAdAAAAABAD)\n",
    "\n",
    "#### Data Analysis\n",
    "\n",
    "Data is analysed [below](#Data-Analysis-Using-Pandas) using [Pandas](https://pandas.pydata.org/) Python library.\n",
    "\n",
    "Questions (given in Week 1 Assignment) to be answered by data analysis:\n",
    "\n",
    "1. How many % of nobel prize laureates were women?\n",
    "2. What is the most common origin (country) of nobel laureates?\n",
    "3. Have there been equal count of prizes in each category awarded?\n",
    "4. What are the 5 most common words in nobel prize topics?\n",
    "<br><br>\n",
    "----\n"
   ]
  },
  {
   "cell_type": "markdown",
   "metadata": {},
   "source": [
    "## Data Description Using Pandas\n",
    "\n",
    "To describe and analyse data, Pandas is used herein.\n",
    "To work with Pandas, it has to be imported:"
   ]
  },
  {
   "cell_type": "code",
   "execution_count": 1,
   "metadata": {},
   "outputs": [],
   "source": [
    "import pandas as pd"
   ]
  },
  {
   "cell_type": "markdown",
   "metadata": {},
   "source": [
    "To work with Nobel Prize dataset, the dataset previously downloaded and saved as .csv file has to be read and stored in _df_ variable, which is of DataFrame type:"
   ]
  },
  {
   "cell_type": "code",
   "execution_count": 2,
   "metadata": {},
   "outputs": [
    {
     "data": {
      "text/plain": [
       "pandas.core.frame.DataFrame"
      ]
     },
     "execution_count": 2,
     "metadata": {},
     "output_type": "execute_result"
    }
   ],
   "source": [
    "# read csv dataset\n",
    "df = pd.read_csv('/home/daniela/IT_learning/Python/Pyladiesams/Pyladies_Amsterdam-Data_Analysis_Bootcamp_2020/homework_my/downloaded_data/nobel_winners.csv')\n",
    "type(df)"
   ]
  },
  {
   "cell_type": "markdown",
   "metadata": {},
   "source": [
    "Basic decription of the _df_ dataframe can be done by **_head()_** and **_shape_** , **_info_**, columns can be shown by **_columns_**:"
   ]
  },
  {
   "cell_type": "code",
   "execution_count": 3,
   "metadata": {},
   "outputs": [
    {
     "data": {
      "text/html": [
       "<div>\n",
       "<style scoped>\n",
       "    .dataframe tbody tr th:only-of-type {\n",
       "        vertical-align: middle;\n",
       "    }\n",
       "\n",
       "    .dataframe tbody tr th {\n",
       "        vertical-align: top;\n",
       "    }\n",
       "\n",
       "    .dataframe thead th {\n",
       "        text-align: right;\n",
       "    }\n",
       "</style>\n",
       "<table border=\"1\" class=\"dataframe\">\n",
       "  <thead>\n",
       "    <tr style=\"text-align: right;\">\n",
       "      <th></th>\n",
       "      <th>prize_year</th>\n",
       "      <th>category</th>\n",
       "      <th>prize</th>\n",
       "      <th>motivation</th>\n",
       "      <th>prize_share</th>\n",
       "      <th>laureate_id</th>\n",
       "      <th>laureate_type</th>\n",
       "      <th>full_name</th>\n",
       "      <th>birth_date</th>\n",
       "      <th>birth_city</th>\n",
       "      <th>birth_country</th>\n",
       "      <th>gender</th>\n",
       "      <th>organization_name</th>\n",
       "      <th>organization_city</th>\n",
       "      <th>organization_country</th>\n",
       "      <th>death_date</th>\n",
       "      <th>death_city</th>\n",
       "      <th>death_country</th>\n",
       "    </tr>\n",
       "  </thead>\n",
       "  <tbody>\n",
       "    <tr>\n",
       "      <th>0</th>\n",
       "      <td>1901</td>\n",
       "      <td>Chemistry</td>\n",
       "      <td>The Nobel Prize in Chemistry 1901</td>\n",
       "      <td>\"in recognition of the extraordinary services ...</td>\n",
       "      <td>1/1</td>\n",
       "      <td>160</td>\n",
       "      <td>Individual</td>\n",
       "      <td>Jacobus Henricus van 't Hoff</td>\n",
       "      <td>1852-08-30</td>\n",
       "      <td>Rotterdam</td>\n",
       "      <td>Netherlands</td>\n",
       "      <td>Male</td>\n",
       "      <td>Berlin University</td>\n",
       "      <td>Berlin</td>\n",
       "      <td>Germany</td>\n",
       "      <td>1911-03-01</td>\n",
       "      <td>Berlin</td>\n",
       "      <td>Germany</td>\n",
       "    </tr>\n",
       "    <tr>\n",
       "      <th>1</th>\n",
       "      <td>1901</td>\n",
       "      <td>Literature</td>\n",
       "      <td>The Nobel Prize in Literature 1901</td>\n",
       "      <td>\"in special recognition of his poetic composit...</td>\n",
       "      <td>1/1</td>\n",
       "      <td>569</td>\n",
       "      <td>Individual</td>\n",
       "      <td>Sully Prudhomme</td>\n",
       "      <td>1839-03-16</td>\n",
       "      <td>Paris</td>\n",
       "      <td>France</td>\n",
       "      <td>Male</td>\n",
       "      <td>NaN</td>\n",
       "      <td>NaN</td>\n",
       "      <td>NaN</td>\n",
       "      <td>1907-09-07</td>\n",
       "      <td>Châtenay</td>\n",
       "      <td>France</td>\n",
       "    </tr>\n",
       "    <tr>\n",
       "      <th>2</th>\n",
       "      <td>1901</td>\n",
       "      <td>Medicine</td>\n",
       "      <td>The Nobel Prize in Physiology or Medicine 1901</td>\n",
       "      <td>\"for his work on serum therapy, especially its...</td>\n",
       "      <td>1/1</td>\n",
       "      <td>293</td>\n",
       "      <td>Individual</td>\n",
       "      <td>Emil Adolf von Behring</td>\n",
       "      <td>1854-03-15</td>\n",
       "      <td>Hansdorf (Lawice)</td>\n",
       "      <td>Prussia (Poland)</td>\n",
       "      <td>Male</td>\n",
       "      <td>Marburg University</td>\n",
       "      <td>Marburg</td>\n",
       "      <td>Germany</td>\n",
       "      <td>1917-03-31</td>\n",
       "      <td>Marburg</td>\n",
       "      <td>Germany</td>\n",
       "    </tr>\n",
       "  </tbody>\n",
       "</table>\n",
       "</div>"
      ],
      "text/plain": [
       "   prize_year    category                                           prize  \\\n",
       "0        1901   Chemistry               The Nobel Prize in Chemistry 1901   \n",
       "1        1901  Literature              The Nobel Prize in Literature 1901   \n",
       "2        1901    Medicine  The Nobel Prize in Physiology or Medicine 1901   \n",
       "\n",
       "                                          motivation prize_share  laureate_id  \\\n",
       "0  \"in recognition of the extraordinary services ...         1/1          160   \n",
       "1  \"in special recognition of his poetic composit...         1/1          569   \n",
       "2  \"for his work on serum therapy, especially its...         1/1          293   \n",
       "\n",
       "  laureate_type                     full_name  birth_date         birth_city  \\\n",
       "0    Individual  Jacobus Henricus van 't Hoff  1852-08-30          Rotterdam   \n",
       "1    Individual               Sully Prudhomme  1839-03-16              Paris   \n",
       "2    Individual        Emil Adolf von Behring  1854-03-15  Hansdorf (Lawice)   \n",
       "\n",
       "      birth_country gender   organization_name organization_city  \\\n",
       "0       Netherlands   Male   Berlin University            Berlin   \n",
       "1            France   Male                 NaN               NaN   \n",
       "2  Prussia (Poland)   Male  Marburg University           Marburg   \n",
       "\n",
       "  organization_country  death_date death_city death_country  \n",
       "0              Germany  1911-03-01     Berlin       Germany  \n",
       "1                  NaN  1907-09-07   Châtenay        France  \n",
       "2              Germany  1917-03-31    Marburg       Germany  "
      ]
     },
     "execution_count": 3,
     "metadata": {},
     "output_type": "execute_result"
    }
   ],
   "source": [
    "df.head(3)"
   ]
  },
  {
   "cell_type": "code",
   "execution_count": 4,
   "metadata": {},
   "outputs": [
    {
     "data": {
      "text/plain": [
       "(969, 18)"
      ]
     },
     "execution_count": 4,
     "metadata": {},
     "output_type": "execute_result"
    }
   ],
   "source": [
    "df.shape"
   ]
  },
  {
   "cell_type": "code",
   "execution_count": 5,
   "metadata": {},
   "outputs": [
    {
     "name": "stdout",
     "output_type": "stream",
     "text": [
      "<class 'pandas.core.frame.DataFrame'>\n",
      "RangeIndex: 969 entries, 0 to 968\n",
      "Data columns (total 18 columns):\n",
      " #   Column                Non-Null Count  Dtype \n",
      "---  ------                --------------  ----- \n",
      " 0   prize_year            969 non-null    int64 \n",
      " 1   category              969 non-null    object\n",
      " 2   prize                 969 non-null    object\n",
      " 3   motivation            881 non-null    object\n",
      " 4   prize_share           969 non-null    object\n",
      " 5   laureate_id           969 non-null    int64 \n",
      " 6   laureate_type         969 non-null    object\n",
      " 7   full_name             969 non-null    object\n",
      " 8   birth_date            938 non-null    object\n",
      " 9   birth_city            941 non-null    object\n",
      " 10  birth_country         943 non-null    object\n",
      " 11  gender                943 non-null    object\n",
      " 12  organization_name     722 non-null    object\n",
      " 13  organization_city     716 non-null    object\n",
      " 14  organization_country  716 non-null    object\n",
      " 15  death_date            617 non-null    object\n",
      " 16  death_city            599 non-null    object\n",
      " 17  death_country         605 non-null    object\n",
      "dtypes: int64(2), object(16)\n",
      "memory usage: 136.4+ KB\n"
     ]
    }
   ],
   "source": [
    "df.info()"
   ]
  },
  {
   "cell_type": "code",
   "execution_count": 6,
   "metadata": {},
   "outputs": [
    {
     "data": {
      "text/plain": [
       "Index(['prize_year', 'category', 'prize', 'motivation', 'prize_share',\n",
       "       'laureate_id', 'laureate_type', 'full_name', 'birth_date', 'birth_city',\n",
       "       'birth_country', 'gender', 'organization_name', 'organization_city',\n",
       "       'organization_country', 'death_date', 'death_city', 'death_country'],\n",
       "      dtype='object')"
      ]
     },
     "execution_count": 6,
     "metadata": {},
     "output_type": "execute_result"
    }
   ],
   "source": [
    "df.columns"
   ]
  },
  {
   "cell_type": "markdown",
   "metadata": {},
   "source": [
    "2 ways of accessing columns:"
   ]
  },
  {
   "cell_type": "code",
   "execution_count": 7,
   "metadata": {},
   "outputs": [
    {
     "data": {
      "text/plain": [
       "0    1901\n",
       "1    1901\n",
       "2    1901\n",
       "3    1901\n",
       "4    1901\n",
       "Name: prize_year, dtype: int64"
      ]
     },
     "execution_count": 7,
     "metadata": {},
     "output_type": "execute_result"
    }
   ],
   "source": [
    "df.prize_year.head()"
   ]
  },
  {
   "cell_type": "code",
   "execution_count": 8,
   "metadata": {},
   "outputs": [
    {
     "data": {
      "text/plain": [
       "0    1901\n",
       "1    1901\n",
       "2    1901\n",
       "3    1901\n",
       "4    1901\n",
       "Name: prize_year, dtype: int64"
      ]
     },
     "execution_count": 8,
     "metadata": {},
     "output_type": "execute_result"
    }
   ],
   "source": [
    "df[\"prize_year\"].head()"
   ]
  },
  {
   "cell_type": "code",
   "execution_count": 9,
   "metadata": {},
   "outputs": [
    {
     "data": {
      "text/plain": [
       "2    1901\n",
       "3    1901\n",
       "4    1901\n",
       "Name: prize_year, dtype: int64"
      ]
     },
     "execution_count": 9,
     "metadata": {},
     "output_type": "execute_result"
    }
   ],
   "source": [
    "df[\"prize_year\"][2:5]"
   ]
  },
  {
   "cell_type": "markdown",
   "metadata": {},
   "source": [
    "To show unique values of a column (here _prize_year_), **_unique()_** can be used:"
   ]
  },
  {
   "cell_type": "code",
   "execution_count": 10,
   "metadata": {},
   "outputs": [
    {
     "data": {
      "text/plain": [
       "array([1901, 1902, 1903, 1904, 1905, 1906, 1907, 1908, 1909, 1910, 1911,\n",
       "       1912, 1913, 1914, 1915, 1916, 1917, 1918, 1919, 1920, 1921, 1922,\n",
       "       1923, 1924, 1925, 1926, 1927, 1928, 1929, 1930, 1931, 1932, 1933,\n",
       "       1934, 1935, 1936, 1937, 1938, 1939, 1943, 1944, 1945, 1946, 1947,\n",
       "       1948, 1949, 1950, 1951, 1952, 1953, 1954, 1955, 1956, 1957, 1958,\n",
       "       1959, 1960, 1961, 1962, 1963, 1964, 1965, 1966, 1967, 1968, 1969,\n",
       "       1970, 1971, 1972, 1973, 1974, 1975, 1976, 1977, 1978, 1979, 1980,\n",
       "       1981, 1982, 1983, 1984, 1985, 1986, 1987, 1988, 1989, 1990, 1991,\n",
       "       1992, 1993, 1994, 1995, 1996, 1997, 1998, 1999, 2000, 2001, 2002,\n",
       "       2003, 2004, 2005, 2006, 2007, 2008, 2009, 2010, 2011, 2012, 2013,\n",
       "       2014, 2015, 2016])"
      ]
     },
     "execution_count": 10,
     "metadata": {},
     "output_type": "execute_result"
    }
   ],
   "source": [
    "df.prize_year.unique()"
   ]
  },
  {
   "cell_type": "code",
   "execution_count": 11,
   "metadata": {},
   "outputs": [
    {
     "data": {
      "text/plain": [
       "113"
      ]
     },
     "execution_count": 11,
     "metadata": {},
     "output_type": "execute_result"
    }
   ],
   "source": [
    "# number of unique values\n",
    "len(df.prize_year.unique())"
   ]
  },
  {
   "cell_type": "markdown",
   "metadata": {},
   "source": [
    "To check, if the dataframe contains NaN values, **_isnull()_** can be used. Output is Boolean."
   ]
  },
  {
   "cell_type": "code",
   "execution_count": 12,
   "metadata": {},
   "outputs": [
    {
     "data": {
      "text/plain": [
       "True"
      ]
     },
     "execution_count": 12,
     "metadata": {},
     "output_type": "execute_result"
    }
   ],
   "source": [
    "df.isnull().values.any()  # this dataframe contains NaN values"
   ]
  },
  {
   "cell_type": "code",
   "execution_count": 13,
   "metadata": {},
   "outputs": [
    {
     "data": {
      "text/plain": [
       "False"
      ]
     },
     "execution_count": 13,
     "metadata": {},
     "output_type": "execute_result"
    }
   ],
   "source": [
    "df.laureate_id.isnull().values.any()"
   ]
  },
  {
   "cell_type": "code",
   "execution_count": 14,
   "metadata": {},
   "outputs": [
    {
     "data": {
      "text/plain": [
       "True"
      ]
     },
     "execution_count": 14,
     "metadata": {},
     "output_type": "execute_result"
    }
   ],
   "source": [
    "df.motivation.isnull().values.any()"
   ]
  },
  {
   "cell_type": "markdown",
   "metadata": {},
   "source": [
    "## Data Analysis Using Pandas\n",
    "\n",
    "At first, some basic functions and data manipulations is shown here.\n",
    "\n",
    "For counting inputs (rows) for each distinct value in specific column (prize_year), **_value_counts_** can be used:"
   ]
  },
  {
   "cell_type": "code",
   "execution_count": 15,
   "metadata": {},
   "outputs": [
    {
     "data": {
      "text/plain": [
       "2009    18\n",
       "2013    16\n",
       "2011    16\n",
       "2005    16\n",
       "2014    15\n",
       "        ..\n",
       "1919     4\n",
       "1924     3\n",
       "1914     3\n",
       "1918     2\n",
       "1916     1\n",
       "Name: prize_year, Length: 113, dtype: int64"
      ]
     },
     "execution_count": 15,
     "metadata": {},
     "output_type": "execute_result"
    }
   ],
   "source": [
    "# number of laureates per year\n",
    "df['prize_year'].value_counts()"
   ]
  },
  {
   "cell_type": "markdown",
   "metadata": {},
   "source": [
    "Average sum of laureates per year:"
   ]
  },
  {
   "cell_type": "code",
   "execution_count": 16,
   "metadata": {},
   "outputs": [
    {
     "data": {
      "text/plain": [
       "8.6"
      ]
     },
     "execution_count": 16,
     "metadata": {},
     "output_type": "execute_result"
    }
   ],
   "source": [
    "# average laureates count rounded to 1 decimal\n",
    "round(df['prize_year'].value_counts().mean(), 1)"
   ]
  },
  {
   "cell_type": "markdown",
   "metadata": {},
   "source": [
    "Maximum value of laureate_id:"
   ]
  },
  {
   "cell_type": "code",
   "execution_count": 17,
   "metadata": {},
   "outputs": [
    {
     "data": {
      "text/plain": [
       "937"
      ]
     },
     "execution_count": 17,
     "metadata": {},
     "output_type": "execute_result"
    }
   ],
   "source": [
    "df[\"laureate_id\"].max()"
   ]
  },
  {
   "cell_type": "code",
   "execution_count": 18,
   "metadata": {},
   "outputs": [
    {
     "data": {
      "text/plain": [
       "True"
      ]
     },
     "execution_count": 18,
     "metadata": {},
     "output_type": "execute_result"
    }
   ],
   "source": [
    "df_copy = df\n",
    "df_copy.motivation.isnull().values.any()"
   ]
  },
  {
   "cell_type": "code",
   "execution_count": 19,
   "metadata": {},
   "outputs": [
    {
     "data": {
      "text/plain": [
       "881"
      ]
     },
     "execution_count": 19,
     "metadata": {},
     "output_type": "execute_result"
    }
   ],
   "source": [
    "df_copy.motivation.count()\n",
    "\n"
   ]
  },
  {
   "cell_type": "code",
   "execution_count": 20,
   "metadata": {},
   "outputs": [
    {
     "name": "stdout",
     "output_type": "stream",
     "text": [
      "<class 'pandas.core.frame.DataFrame'>\n",
      "RangeIndex: 969 entries, 0 to 968\n",
      "Data columns (total 18 columns):\n",
      " #   Column                Non-Null Count  Dtype \n",
      "---  ------                --------------  ----- \n",
      " 0   prize_year            969 non-null    int64 \n",
      " 1   category              969 non-null    object\n",
      " 2   prize                 969 non-null    object\n",
      " 3   motivation            881 non-null    object\n",
      " 4   prize_share           969 non-null    object\n",
      " 5   laureate_id           969 non-null    int64 \n",
      " 6   laureate_type         969 non-null    object\n",
      " 7   full_name             969 non-null    object\n",
      " 8   birth_date            938 non-null    object\n",
      " 9   birth_city            941 non-null    object\n",
      " 10  birth_country         943 non-null    object\n",
      " 11  gender                943 non-null    object\n",
      " 12  organization_name     722 non-null    object\n",
      " 13  organization_city     716 non-null    object\n",
      " 14  organization_country  716 non-null    object\n",
      " 15  death_date            617 non-null    object\n",
      " 16  death_city            599 non-null    object\n",
      " 17  death_country         605 non-null    object\n",
      "dtypes: int64(2), object(16)\n",
      "memory usage: 136.4+ KB\n"
     ]
    }
   ],
   "source": [
    "df.info()"
   ]
  },
  {
   "cell_type": "markdown",
   "metadata": {},
   "source": [
    "----\n",
    "Data analysis to answer given questions is here:\n",
    "\n",
    "##### Question 1: How many % of nobel prize laureates were women?"
   ]
  },
  {
   "cell_type": "code",
   "execution_count": 21,
   "metadata": {},
   "outputs": [
    {
     "data": {
      "text/plain": [
       "Male      893\n",
       "Female     50\n",
       "Name: gender, dtype: int64"
      ]
     },
     "execution_count": 21,
     "metadata": {},
     "output_type": "execute_result"
    }
   ],
   "source": [
    "df.gender.value_counts()"
   ]
  },
  {
   "cell_type": "code",
   "execution_count": 22,
   "metadata": {},
   "outputs": [
    {
     "data": {
      "text/plain": [
       "969"
      ]
     },
     "execution_count": 22,
     "metadata": {},
     "output_type": "execute_result"
    }
   ],
   "source": [
    "# number of all laureates (including organizations)\n",
    "total_laureates_count = df.shape[0]\n",
    "total_laureates_count"
   ]
  },
  {
   "cell_type": "code",
   "execution_count": 23,
   "metadata": {},
   "outputs": [
    {
     "data": {
      "text/plain": [
       "50"
      ]
     },
     "execution_count": 23,
     "metadata": {},
     "output_type": "execute_result"
    }
   ],
   "source": [
    "# number of women\n",
    "df_women = df[df.gender == \"Female\"]\n",
    "women_count = len(df_women)\n",
    "women_count"
   ]
  },
  {
   "cell_type": "code",
   "execution_count": 24,
   "metadata": {},
   "outputs": [
    {
     "data": {
      "text/plain": [
       "919"
      ]
     },
     "execution_count": 24,
     "metadata": {},
     "output_type": "execute_result"
    }
   ],
   "source": [
    "# number of other than women\n",
    "df_other = df[df.gender != \"Female\"]\n",
    "len(df_other)"
   ]
  },
  {
   "cell_type": "code",
   "execution_count": 25,
   "metadata": {},
   "outputs": [
    {
     "data": {
      "text/plain": [
       "893"
      ]
     },
     "execution_count": 25,
     "metadata": {},
     "output_type": "execute_result"
    }
   ],
   "source": [
    "# number of men\n",
    "df_men = df[df.gender == \"Male\"]\n",
    "men_count = len(df_men)\n",
    "men_count"
   ]
  },
  {
   "cell_type": "code",
   "execution_count": 26,
   "metadata": {},
   "outputs": [
    {
     "data": {
      "text/plain": [
       "26"
      ]
     },
     "execution_count": 26,
     "metadata": {},
     "output_type": "execute_result"
    }
   ],
   "source": [
    "# number of unknown gender\n",
    "df_unknown_gender = df[pd.isnull(df.gender)]\n",
    "unknown_gender_count = len(df_unknown_gender)\n",
    "unknown_gender_count"
   ]
  },
  {
   "cell_type": "code",
   "execution_count": 27,
   "metadata": {},
   "outputs": [
    {
     "name": "stdout",
     "output_type": "stream",
     "text": [
      "yess!!\n"
     ]
    }
   ],
   "source": [
    "# are values ok?\n",
    "if (women_count + men_count + unknown_gender_count) == total_laureates_count:\n",
    "    print(\"yess!!\")\n"
   ]
  },
  {
   "cell_type": "code",
   "execution_count": 28,
   "metadata": {},
   "outputs": [
    {
     "name": "stdout",
     "output_type": "stream",
     "text": [
      "Percentage of women Nobel prize laureates: 5.2 %\n",
      "(Percentage of men Nobel prize laureates: 92.2 %)\n",
      "(Percentage of unknown Nobel prize laureates: 2.7 %)\n"
     ]
    }
   ],
   "source": [
    "percentage_of_women = women_count / total_laureates_count * 100\n",
    "percentage_of_men = men_count / total_laureates_count * 100\n",
    "percentage_of_unknown = unknown_gender_count / total_laureates_count * 100\n",
    "\n",
    "\n",
    "\n",
    "print(f\"Percentage of women Nobel prize laureates: {round(percentage_of_women, 1)} %\")\n",
    "print(f\"(Percentage of men Nobel prize laureates: {round(percentage_of_men, 1)} %)\")\n",
    "print(f\"(Percentage of unknown Nobel prize laureates: {round(percentage_of_unknown, 1)} %)\")"
   ]
  },
  {
   "cell_type": "code",
   "execution_count": 29,
   "metadata": {},
   "outputs": [
    {
     "data": {
      "image/png": "[encoded data removed]",
      "text/plain": [
       "<Figure size 432x288 with 1 Axes>"
      ]
     },
     "metadata": {},
     "output_type": "display_data"
    }
   ],
   "source": [
    "import matplotlib\n",
    "\n",
    "percentage = pd.DataFrame({\"percentage\":[percentage_of_women, percentage_of_men, percentage_of_unknown]}, index=[\"Female\", \"Male\", \"NaN\"])\n",
    "percentage_pie = percentage.plot.pie(y=\"percentage\")\n"
   ]
  },
  {
   "cell_type": "markdown",
   "metadata": {},
   "source": [
    "##### Question 2: What is the most common origin (country) of nobel laureates?"
   ]
  },
  {
   "cell_type": "code",
   "execution_count": 30,
   "metadata": {},
   "outputs": [
    {
     "data": {
      "text/plain": [
       "United States of America    276\n",
       "Name: birth_country, dtype: int64"
      ]
     },
     "execution_count": 30,
     "metadata": {},
     "output_type": "execute_result"
    }
   ],
   "source": [
    "df.birth_country.value_counts().head(1)"
   ]
  },
  {
   "cell_type": "markdown",
   "metadata": {},
   "source": [
    "#### Question 3: Have there been equal count of prizes in each category awarded?"
   ]
  },
  {
   "cell_type": "code",
   "execution_count": 31,
   "metadata": {},
   "outputs": [
    {
     "data": {
      "text/plain": [
       "Index(['Medicine', 'Physics', 'Chemistry', 'Peace', 'Literature', 'Economics'], dtype='object')"
      ]
     },
     "execution_count": 31,
     "metadata": {},
     "output_type": "execute_result"
    }
   ],
   "source": [
    "# counting values in each category, putting to dataframe with index\n",
    "cat_no = pd.DataFrame(df.category.value_counts())\n",
    "cat_no.index\n"
   ]
  },
  {
   "cell_type": "code",
   "execution_count": 32,
   "metadata": {},
   "outputs": [
    {
     "data": {
      "text/plain": [
       "<matplotlib.axes._subplots.AxesSubplot at 0x7f88f3e95430>"
      ]
     },
     "execution_count": 32,
     "metadata": {},
     "output_type": "execute_result"
    },
    {
     "data": {
      "image/png": "[encoded data removed]",
      "text/plain": [
       "<Figure size 432x288 with 1 Axes>"
      ]
     },
     "metadata": {
      "needs_background": "light"
     },
     "output_type": "display_data"
    }
   ],
   "source": [
    "cat_no_bar = cat_no.plot.bar(rot=0, legend=False)\n",
    "cat_no_bar.set(xlabel=\"Category\", ylabel=\"Count\", title=\"Number of prizes awarded according to category\")\n",
    "cat_no_bar"
   ]
  },
  {
   "cell_type": "markdown",
   "metadata": {},
   "source": [
    "#### Question 4: What are the 5 most common words in nobel prize topics?"
   ]
  },
  {
   "cell_type": "code",
   "execution_count": 33,
   "metadata": {},
   "outputs": [
    {
     "data": {
      "text/html": [
       "<div>\n",
       "<style scoped>\n",
       "    .dataframe tbody tr th:only-of-type {\n",
       "        vertical-align: middle;\n",
       "    }\n",
       "\n",
       "    .dataframe tbody tr th {\n",
       "        vertical-align: top;\n",
       "    }\n",
       "\n",
       "    .dataframe thead th {\n",
       "        text-align: right;\n",
       "    }\n",
       "</style>\n",
       "<table border=\"1\" class=\"dataframe\">\n",
       "  <thead>\n",
       "    <tr style=\"text-align: right;\">\n",
       "      <th></th>\n",
       "      <th>0</th>\n",
       "    </tr>\n",
       "  </thead>\n",
       "  <tbody>\n",
       "    <tr>\n",
       "      <th>discovery</th>\n",
       "      <td>206</td>\n",
       "    </tr>\n",
       "    <tr>\n",
       "      <th>discoveries</th>\n",
       "      <td>164</td>\n",
       "    </tr>\n",
       "    <tr>\n",
       "      <th>concerning</th>\n",
       "      <td>124</td>\n",
       "    </tr>\n",
       "    <tr>\n",
       "      <th>development</th>\n",
       "      <td>111</td>\n",
       "    </tr>\n",
       "    <tr>\n",
       "      <th>work</th>\n",
       "      <td>95</td>\n",
       "    </tr>\n",
       "  </tbody>\n",
       "</table>\n",
       "</div>"
      ],
      "text/plain": [
       "               0\n",
       "discovery    206\n",
       "discoveries  164\n",
       "concerning   124\n",
       "development  111\n",
       "work          95"
      ]
     },
     "execution_count": 33,
     "metadata": {},
     "output_type": "execute_result"
    }
   ],
   "source": [
    "mot_list = list(df.motivation)\n",
    "# print(mot_list)\n",
    "words_list = []\n",
    "words_dict = {}\n",
    "unwanted = [\"with\", \"their\", \"this\", \"which\", \"after\"]\n",
    "\n",
    "def create_list_of_words_in_motivation(mot_list):\n",
    "    \"\"\"Splits the titles in motivation column from df \n",
    "    dataset into list of words, removes unwanted characters\"\"\"\n",
    "    \n",
    "    for title in mot_list:\n",
    "        if type(title) == str:\n",
    "            words_in_title = title.split(\" \")     \n",
    "    #         print(words_in_title)\n",
    "\n",
    "            for w in words_in_title:\n",
    "                w = w.replace(' ', '')\n",
    "                w = w.replace('\"', '')\n",
    "                w = w.replace(',', '')\n",
    "                w.lower()\n",
    "                if len(w)>3:\n",
    "                    if w not in unwanted:\n",
    "                        words_list.append(w)\n",
    "                continue\n",
    "    return words_list\n",
    "\n",
    "\n",
    "def count_words(words_list, words_dict):\n",
    "    \"\"\"Counts the words in motivation titles, \n",
    "    creates a dictionary\"\"\"\n",
    "    for w in words_list:\n",
    "        if w not in words_dict.keys():\n",
    "            count = words_list.count(w)\n",
    "            words_dict[w] = count\n",
    "        else:\n",
    "            continue\n",
    "\n",
    "    return words_dict         \n",
    "\n",
    "\n",
    "words_list = create_list_of_words_in_motivation(mot_list)\n",
    "words_dict = count_words(words_list, words_dict)\n",
    "\n",
    "mot_df = pd.DataFrame.from_dict(words_dict, orient=\"index\")\n",
    "mot_df.sort_values(by=[0], ascending=False).head(5)\n"
   ]
  },
  {
   "cell_type": "code",
   "execution_count": 34,
   "metadata": {},
   "outputs": [
    {
     "data": {
      "image/png": "[encoded data removed]",
      "text/plain": [
       "<Figure size 576x432 with 1 Axes>"
      ]
     },
     "metadata": {
      "needs_background": "light"
     },
     "output_type": "display_data"
    }
   ],
   "source": [
    "# import numpy as np\n",
    "from PIL import Image\n",
    "from wordcloud import WordCloud, STOPWORDS, ImageColorGenerator\n",
    "\n",
    "import matplotlib.pyplot as plt\n",
    "\n",
    "mot_string = ''\n",
    "mot_string += \" \".join(words_list)+\" \"\n",
    "\n",
    "wordcloud = WordCloud(width = 1000, height = 600, \n",
    "                background_color ='white',\n",
    "                max_words=30,\n",
    "                stopwords = unwanted, \n",
    "                min_font_size = 10).generate(mot_string)\n",
    "\n",
    "# plot the WordCloud image                        \n",
    "plt.figure(figsize = (8, 6), facecolor = None) \n",
    "plt.imshow(wordcloud) \n",
    "plt.axis(\"off\") \n",
    "plt.tight_layout(pad = 0)  \n",
    "plt.show()"
   ]
  },
  {
   "cell_type": "code",
   "execution_count": null,
   "metadata": {},
   "outputs": [],
   "source": []
  }
 ],
 "metadata": {
  "kernelspec": {
   "display_name": "Python 3",
   "language": "python",
   "name": "python3"
  },
  "language_info": {
   "codemirror_mode": {
    "name": "ipython",
    "version": 3
   },
   "file_extension": ".py",
   "mimetype": "text/x-python",
   "name": "python",
   "nbconvert_exporter": "python",
   "pygments_lexer": "ipython3",
   "version": "3.8.2"
  }
 },
 "nbformat": 4,
 "nbformat_minor": 2
}
