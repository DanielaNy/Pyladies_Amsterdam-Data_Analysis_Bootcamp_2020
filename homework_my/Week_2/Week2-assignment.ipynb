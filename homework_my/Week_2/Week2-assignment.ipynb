{
 "cells": [
  {
   "cell_type": "markdown",
   "metadata": {},
   "source": [
    "# Manipulate .txt files\n",
    "### Preps:\n",
    "1. Create a data folder in the assignments folder\n",
    "2. Copy the birth_life_2010.txt to the data folder\n",
    "3. What is the absolute path of your birth_life_2010.txt file? \n",
    "    - Hint: `import os`\n",
    "4. Look up what the os library can do for you\n",
    "\n",
    "\n",
    "### Questions\n",
    "1. Read birth_life_2010.txt file line by line\n",
    "2. Make sure that every country name is in the same list as the Birth rate and the Life expectancy belonging to that country\n",
    "    - example: [Vietnam, 1.822, 74.828243902']\n",
    "    - result: [[Vietnam, 1.822, 74.828243902'], ..., ['Vanuatu, 3.869, 70.819487805]]\n",
    "3. Make sure all the countries names starts from capital letters\n",
    "4. Round all the numbers to 2 decimals\n",
    "5. Sort the list based on the country names from A -> Z\n",
    "6. Remove the last letter of every country\n",
    "\n",
    "\n",
    "### Hard Questions\n",
    "1. Create a function that takes a list of words and returns step 3 till 6 as a list\n",
    " - do not forget the comments and to explain what your function does and what it returns (what is the expected function output)\n",
    "2. How many country does the file contain?\n",
    "3. Do all countries have birth and life expectancy present? \n",
    "4. How many countries start with the letter M?\n",
    "5. How many countries have a 'z' in their name"
   ]
  },
  {
   "cell_type": "code",
   "execution_count": 3,
   "metadata": {},
   "outputs": [],
   "source": [
    "import os"
   ]
  },
  {
   "cell_type": "code",
   "execution_count": 4,
   "metadata": {},
   "outputs": [
    {
     "data": {
      "text/plain": [
       "'/home/daniela/IT_learning/Python/Pyladiesams/homework_my/data/birth_life_2010.txt'"
      ]
     },
     "execution_count": 4,
     "metadata": {},
     "output_type": "execute_result"
    }
   ],
   "source": [
    "os.path.abspath(\"/home/daniela/IT_learning/Python/Pyladiesams/homework_my/data/birth_life_2010.txt\")"
   ]
  },
  {
   "cell_type": "code",
   "execution_count": 12,
   "metadata": {},
   "outputs": [
    {
     "name": "stdout",
     "output_type": "stream",
     "text": [
      "Country\tBirth rate\tLife expectancy\n",
      "Vietnam\t1.822\t74.828243902\n",
      "Vanuatu\t3.869\t70.819487805\n",
      "Tonga\t3.911\t72.150658537\n",
      "Timor-Leste\t5.578\t61.999853659\n",
      "Thailand\t1.579\t73.927658537\n",
      "Solomon Islands\t4.229\t67.46\n",
      "<class 'str'>\n"
     ]
    }
   ],
   "source": [
    "with open('/home/daniela/IT_learning/Python/Pyladiesams/homework_my/data/birth_life_2010.txt', \"r\") as myfile:\n",
    "    text_from_file = myfile.read()\n",
    "    \n",
    "print(text_from_file[:200])\n",
    "print(type(text_from_file))"
   ]
  },
  {
   "cell_type": "code",
   "execution_count": 20,
   "metadata": {},
   "outputs": [
    {
     "name": "stdout",
     "output_type": "stream",
     "text": [
      "['Country\\tBirth rate\\tLife expectancy', 'Vietnam\\t1.822\\t74.828243902', 'Vanuatu\\t3.869\\t70.819487805', 'Tonga\\t3.911\\t72.150658537', 'Timor-Leste\\t5.578\\t61.999853659', 'Thailand\\t1.579\\t73.927658537', 'Solomon Islands\\t4.229\\t67.465195122', 'Singapore\\t1.15\\t81.641463415', 'Samoa\\t3.86\\t72.306390244', 'Philippines\\t3.142\\t68.484317073']\n"
     ]
    }
   ],
   "source": [
    "text_to_list = text_from_file.split('\\n')\n",
    "print(text_to_list[:10])\n"
   ]
  },
  {
   "cell_type": "code",
   "execution_count": 84,
   "metadata": {},
   "outputs": [
    {
     "name": "stdout",
     "output_type": "stream",
     "text": [
      "[['Afghanista', 6.29, 48.28], ['Albani', 1.54, 76.9], ['Algeri', 2.26, 72.85], ['Angola', '5.443', '50.653658537'], ['Argentin', 2.21, 75.63], ['Armeni', 1.74, 73.78], ['Arub', 1.7, 74.98], ['Australi', 1.92, 81.7], ['Austri', 1.44, 80.38], ['Azerbaija', 2.3, 70.51]]\n"
     ]
    }
   ],
   "source": [
    "list_of_countries = []\n",
    "for line in text_to_list:\n",
    "    list_of_countries.append(line.strip().split(\"\\t\"))\n",
    "\n",
    "for line in list_of_countries:\n",
    "    if line == list_of_countries[0]:\n",
    "        list_of_countries.remove(line)\n",
    "    elif line != list_of_countries[-1]:\n",
    "        line[0] = line[0].title()[:-1]\n",
    "        line[1], line[2] = round(float(line[1]), 2), round(float(line[2]), 2)\n",
    "    else:\n",
    "        list_of_countries.sort()\n",
    "    \n",
    "print(list_of_countries[:10])\n",
    "    \n",
    "    "
   ]
  },
  {
   "cell_type": "code",
   "execution_count": 85,
   "metadata": {},
   "outputs": [
    {
     "name": "stdout",
     "output_type": "stream",
     "text": [
      "Count of countries: 190\n",
      "\n",
      "All countries with all entries: True\n",
      "\n",
      "Starting with M: 18\n",
      "\n",
      "Having 'z' or 'Z': 17\n"
     ]
    }
   ],
   "source": [
    "def countries_info(list_of_countries):\n",
    "    \"\"\"Shows information about listed countries:\n",
    "    \\n How many countries are there in the list?\n",
    "    \\n Do all countries have birth and life expectancy present?\n",
    "    \\n How many countries start with the letter M?\n",
    "    \\n How many countries have a 'z' in their name\n",
    "    \n",
    "    returns coutries_count, check_items, starting_with_m, having_z\"\"\"\n",
    "    \n",
    "    countries_count = len(list_of_countries)\n",
    "    starting_with_m = 0\n",
    "    having_z = 0\n",
    "\n",
    "    for entry in list_of_countries:\n",
    "        if entry[0][0] == \"M\":\n",
    "            starting_with_m += 1\n",
    "        \n",
    "        if \"z\" in entry[0].lower():\n",
    "            having_z += 1            \n",
    "        \n",
    "        if len(entry) == 3:\n",
    "            check_items = True\n",
    "        else:\n",
    "            check_items = False\n",
    "            break\n",
    "\n",
    "    return coutries_count, check_items, starting_with_m, having_z   \n",
    "\n",
    "\n",
    "countries_count, check_items, starting_with_m, having_z = countries_info(list_of_countries) \n",
    "\n",
    "print(f\"\"\"Count of countries: {countries_count}\\n\n",
    "All countries with all entries: {check_items}\\n\n",
    "Starting with M: {starting_with_m}\\n\n",
    "Having 'z' or 'Z': {having_z}\"\"\")\n",
    "    \n",
    "      \n",
    "\n"
   ]
  },
  {
   "cell_type": "code",
   "execution_count": null,
   "metadata": {},
   "outputs": [],
   "source": []
  }
 ],
 "metadata": {
  "kernelspec": {
   "display_name": "Python 3",
   "language": "python",
   "name": "python3"
  },
  "language_info": {
   "codemirror_mode": {
    "name": "ipython",
    "version": 3
   },
   "file_extension": ".py",
   "mimetype": "text/x-python",
   "name": "python",
   "nbconvert_exporter": "python",
   "pygments_lexer": "ipython3",
   "version": "3.8.2"
  }
 },
 "nbformat": 4,
 "nbformat_minor": 4
}
