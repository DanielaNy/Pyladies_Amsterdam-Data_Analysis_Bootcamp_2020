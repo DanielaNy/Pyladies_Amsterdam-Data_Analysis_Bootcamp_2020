{
 "cells": [
  {
   "cell_type": "markdown",
   "metadata": {},
   "source": [
    "# Exercise 1\n",
    "Welcome every name from `names`\n",
    "\n",
    "1. Create a list of 3 names\n",
    "\n",
    "2. Create a fruitless function that prints \"hello\" and the name from this name list\n",
    "\n",
    "3. The argument of your function is the name list"
   ]
  },
  {
   "cell_type": "code",
   "execution_count": 1,
   "metadata": {},
   "outputs": [
    {
     "name": "stdout",
     "output_type": "stream",
     "text": [
      "Hello Danica\n",
      "Hello Janica\n",
      "Hello Sranica\n"
     ]
    }
   ],
   "source": [
    "names = [\"Danica\", \"Janica\", \"Sranica\"]\n",
    "\n",
    "def say_hello(nnn):\n",
    "    for name in names:\n",
    "        print(f\"Hello {name}\")\n",
    "\n",
    "say_hello(names)\n"
   ]
  },
  {
   "cell_type": "markdown",
   "metadata": {},
   "source": [
    "# Exercise 2\n",
    "- Write a Python program to calculate the sum of three given numbers\n",
    "- All the numbers should be the arguments of this function\n",
    "- If sum of the numbers is odd, then return a string saying that the numbers are odd\n",
    "- Your functions does not have to print because it is fruitful\n",
    "- Use a built-in function to calculate the sum, not an operator"
   ]
  },
  {
   "cell_type": "code",
   "execution_count": 2,
   "metadata": {},
   "outputs": [
    {
     "name": "stdout",
     "output_type": "stream",
     "text": [
      "set num1: 1\n",
      "set num2: 1\n",
      "set num3: 2\n",
      "4\n"
     ]
    },
    {
     "data": {
      "text/plain": [
       "'the sum is even'"
      ]
     },
     "execution_count": 2,
     "metadata": {},
     "output_type": "execute_result"
    }
   ],
   "source": [
    "num1 = int(input(\"set num1: \"))\n",
    "num2 = int(input(\"set num2: \"))\n",
    "num3 = int(input(\"set num3: \"))\n",
    "\n",
    "numbers = [num1, num2, num3]\n",
    "\n",
    "def calculate_sum(numbers):\n",
    "    sum_var = sum(numbers)\n",
    "    print(sum_var)\n",
    "    if sum_var%2 == 1:\n",
    "        print(\"Odd\")\n",
    "        return \"the sum is odd\"\n",
    "    else:\n",
    "        return \"the sum is even\"\n",
    "\n",
    "calculate_sum(numbers)\n",
    "\n"
   ]
  },
  {
   "cell_type": "markdown",
   "metadata": {},
   "source": [
    "# Exercise 3\n",
    "Write a Python program to concatenate all elements in a list to a string and return it"
   ]
  },
  {
   "cell_type": "code",
   "execution_count": 3,
   "metadata": {},
   "outputs": [
    {
     "data": {
      "text/plain": [
       "'1-1-2'"
      ]
     },
     "execution_count": 3,
     "metadata": {},
     "output_type": "execute_result"
    }
   ],
   "source": [
    "numbers_string = []\n",
    "\n",
    "def concatenate_to_string(numbers):\n",
    "    \n",
    "    for number in numbers:\n",
    "        numbers_string.append(str(number))\n",
    "    \n",
    "    numstr = \"-\".join(numbers_string)\n",
    "    return numstr\n",
    "\n",
    "concatenate_to_string(numbers)"
   ]
  },
  {
   "cell_type": "markdown",
   "metadata": {},
   "source": [
    "# Exercise 4\n",
    "Write a Python program to sum three given integers. However, if two values are equal sum will be zero\n",
    "- use //\tfor floor division"
   ]
  },
  {
   "cell_type": "code",
   "execution_count": 4,
   "metadata": {},
   "outputs": [
    {
     "name": "stdout",
     "output_type": "stream",
     "text": [
      "hello\n",
      "set num4: 1\n",
      "set num5: 1\n",
      "set num6: 5\n",
      "from function\n"
     ]
    },
    {
     "data": {
      "text/plain": [
       "0"
      ]
     },
     "execution_count": 4,
     "metadata": {},
     "output_type": "execute_result"
    }
   ],
   "source": [
    "print(\"hello\")\n",
    "num4 = int(input(\"set num4: \"))\n",
    "num5 = int(input(\"set num5: \"))\n",
    "num6 = int(input(\"set num6: \"))\n",
    "\n",
    "numbers = [num4, num5, num6]\n",
    "\n",
    "def sum_integers(numbers):\n",
    "    print(\"from function\")\n",
    "    if num4 == num5 or num5 == num6 or num4 == num6:\n",
    "        return 0\n",
    "    else:\n",
    "        summed = sum(numbers)\n",
    "        return summed\n",
    "\n",
    "sum_integers(numbers)"
   ]
  },
  {
   "cell_type": "code",
   "execution_count": null,
   "metadata": {},
   "outputs": [],
   "source": []
  }
 ],
 "metadata": {
  "kernelspec": {
   "display_name": "Python 3",
   "language": "python",
   "name": "python3"
  },
  "language_info": {
   "codemirror_mode": {
    "name": "ipython",
    "version": 3
   },
   "file_extension": ".py",
   "mimetype": "text/x-python",
   "name": "python",
   "nbconvert_exporter": "python",
   "pygments_lexer": "ipython3",
   "version": "3.8.2"
  }
 },
 "nbformat": 4,
 "nbformat_minor": 2
}
